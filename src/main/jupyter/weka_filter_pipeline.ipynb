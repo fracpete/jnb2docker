{
 "cells": [
  {
   "cell_type": "markdown",
   "metadata": {},
   "source": [
    "Our dependencies:"
   ]
  },
  {
   "cell_type": "code",
   "execution_count": null,
   "metadata": {},
   "outputs": [],
   "source": [
    "%maven nz.ac.waikato.cms.weka:weka-dev:3.9.4\n",
    "%maven com.github.fracpete:missing-values-imputation-weka-package:2016.6.12"
   ]
  },
  {
   "cell_type": "markdown",
   "metadata": {},
   "source": [
    "The following environment variables are used for determining input and output:\n",
    "\n",
    "* `INPUT` - the input file\n",
    "* `OUTPUT` - the output file\n",
    "* `VERBOSE` - whether to output some debugging information (boolean: true|false)\n",
    "\n",
    "For testing purposes, we set them to manual values if not present:"
   ]
  },
  {
   "cell_type": "code",
   "execution_count": null,
   "metadata": {},
   "outputs": [],
   "source": [
    "String input_file;\n",
    "String output_file;\n",
    "boolean verbose;\n",
    "if (System.getenv(\"INPUT\") != null) {\n",
    "  input_file = System.getenv(\"INPUT\");\n",
    "} else {\n",
    "  input_file = \"/home/fracpete/development/datasets/uci/numeric/bolts.arff\";\n",
    "}\n",
    "if (System.getenv(\"OUTPUT\") != null) {\n",
    "  output_file = System.getenv(\"OUTPUT\");\n",
    "} else {\n",
    "  output_file = \"/home/fracpete/temp/bolts_clean.arff\";\n",
    "}\n",
    "if (System.getenv(\"VERBOSE\") != null) {\n",
    "  verbose = Boolean.parseBoolean(System.getenv(\"VERBOSE\"));\n",
    "} else {\n",
    "  verbose = true;\n",
    "}\n",
    "if (verbose) {\n",
    "  System.out.println(\"INPUT=\" + input_file);\n",
    "  System.out.println(\"OUTPUT=\" + output_file);\n",
    "}"
   ]
  },
  {
   "cell_type": "markdown",
   "metadata": {},
   "source": [
    "Load data:"
   ]
  },
  {
   "cell_type": "code",
   "execution_count": null,
   "metadata": {},
   "outputs": [],
   "source": [
    "import weka.core.converters.ConverterUtils.DataSource;\n",
    "import weka.core.Instances;\n",
    "\n",
    "Instances data = DataSource.read(input_file);\n",
    "data.setClassIndex(data.numAttributes() - 1);\n",
    "\n",
    "// output incoming number of instances\n",
    "if (verbose) {\n",
    "  System.out.println(\"# instances input: \" + data.numInstances());\n",
    "}"
   ]
  },
  {
   "cell_type": "markdown",
   "metadata": {},
   "source": [
    "Clean data by removing all rows that got flagged as outlier or extreme value:"
   ]
  },
  {
   "cell_type": "code",
   "execution_count": null,
   "metadata": {},
   "outputs": [],
   "source": [
    "import weka.core.Utils;\n",
    "import weka.filters.Filter;\n",
    "import weka.filters.MultiFilter;\n",
    "import weka.filters.unsupervised.attribute.InterquartileRange;\n",
    "import weka.filters.unsupervised.attribute.Remove;\n",
    "import weka.filters.unsupervised.instance.RemoveWithValues;\n",
    "\n",
    "// IQR: for flagging outliers/extreme values\n",
    "InterquartileRange iqr = new InterquartileRange();\n",
    "iqr.setOptions(new String[]{\"-R\", \"7\"});   // additional options\n",
    "\n",
    "// removing rows with outlier=yes\n",
    "RemoveWithValues removeOut = new RemoveWithValues();\n",
    "removeOut.setOptions(new String[]{\"-C\", \"9\", \"-L\", \"2\"});\n",
    "\n",
    "// removing rows with extreme=yes\n",
    "RemoveWithValues removeExt = new RemoveWithValues();\n",
    "removeExt.setOptions(new String[]{\"-C\", \"10\", \"-L\", \"2\"});\n",
    "\n",
    "// removing attributes \"Outlier\" and \"ExtremeValue\"\n",
    "Remove removeAtts = new Remove();\n",
    "removeAtts.setOptions(new String[]{\"-R\", \"9,10\"});\n",
    "\n",
    "// combining filters into pipeline\n",
    "MultiFilter multi = new MultiFilter();\n",
    "multi.setFilters(new Filter[]{iqr, removeOut, removeExt, removeAtts});\n",
    "// output commandline\n",
    "if (verbose) {\n",
    "  System.out.println(\"Filter pipeline:\\n\" + Utils.toCommandLine(multi));\n",
    "}\n",
    "\n",
    "// filter data\n",
    "multi.setInputFormat(data);\n",
    "Instances filtered = Filter.useFilter(data, multi);\n",
    "\n",
    "// renaming dataset\n",
    "filtered.setRelationName(data.relationName() + \"-clean\");\n",
    "\n",
    "// output remaining number of instances\n",
    "if (verbose) {\n",
    "  System.out.println(\"# instances output: \" + filtered.numInstances());\n",
    "}"
   ]
  },
  {
   "cell_type": "markdown",
   "metadata": {},
   "source": [
    "Save data:"
   ]
  },
  {
   "cell_type": "code",
   "execution_count": null,
   "metadata": {},
   "outputs": [],
   "source": [
    "import weka.core.converters.ConverterUtils.DataSink;\n",
    "\n",
    "DataSink.write(output_file, filtered);"
   ]
  }
 ],
 "metadata": {
  "kernelspec": {
   "display_name": "Java",
   "language": "java",
   "name": "java"
  },
  "language_info": {
   "codemirror_mode": "java",
   "file_extension": ".java",
   "mimetype": "text/x-java-source",
   "name": "Java",
   "pygments_lexer": "java",
   "version": "11.0.6+10-post-Ubuntu-1ubuntu118.04.1"
  }
 },
 "nbformat": 4,
 "nbformat_minor": 2
}
